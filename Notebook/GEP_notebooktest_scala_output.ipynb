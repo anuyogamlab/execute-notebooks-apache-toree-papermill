{
 "cells": [
  {
   "cell_type": "markdown",
   "id": "de205ebb-3cfd-45d1-8050-9e49e90f0aff",
   "metadata": {
    "papermill": {
     "duration": 0.540857,
     "end_time": "2023-07-24T20:15:57.126311",
     "exception": false,
     "start_time": "2023-07-24T20:15:56.585454",
     "status": "completed"
    },
    "tags": []
   },
   "source": [
    "# Installing Dependencies"
   ]
  },
  {
   "cell_type": "code",
   "execution_count": 1,
   "id": "44543182-155b-44bb-a607-e8c5a8f4f52c",
   "metadata": {
    "execution": {
     "iopub.execute_input": "2023-07-24T20:15:58.265397Z",
     "iopub.status.busy": "2023-07-24T20:15:58.244296Z",
     "iopub.status.idle": "2023-07-24T20:16:11.302616Z",
     "shell.execute_reply": "2023-07-24T20:16:11.302894Z"
    },
    "papermill": {
     "duration": 13.626993,
     "end_time": "2023-07-24T20:16:11.303136",
     "exception": false,
     "start_time": "2023-07-24T20:15:57.676143",
     "status": "completed"
    },
    "tags": []
   },
   "outputs": [
    {
     "name": "stdout",
     "output_type": "stream",
     "text": [
      "Marking com.databricks:spark-xml_2.12:0.16.0 for download\n"
     ]
    },
    {
     "name": "stdout",
     "output_type": "stream",
     "text": [
      "Obtained 2 files\n"
     ]
    },
    {
     "data": {
      "text/plain": [
       "Waiting for a Spark session to start..."
      ]
     },
     "metadata": {},
     "output_type": "display_data"
    },
    {
     "name": "stdout",
     "output_type": "stream",
     "text": [
      "Marking com.databricks:spark-xml_2.12:0.16.0 for download\n"
     ]
    },
    {
     "name": "stdout",
     "output_type": "stream",
     "text": [
      "Obtained 2 files\n"
     ]
    },
    {
     "data": {
      "text/plain": [
       "Waiting for a Spark session to start..."
      ]
     },
     "metadata": {},
     "output_type": "display_data"
    }
   ],
   "source": [
    "%AddDeps com.databricks spark-xml_2.12 0.16.0"
   ]
  },
  {
   "cell_type": "markdown",
   "id": "21766dcf-491e-4176-8e97-7e1f22f281bd",
   "metadata": {
    "papermill": {
     "duration": 0.681957,
     "end_time": "2023-07-24T20:16:12.539180",
     "exception": false,
     "start_time": "2023-07-24T20:16:11.857223",
     "status": "completed"
    },
    "tags": []
   },
   "source": [
    "# Parses XML file and Writes Parquet Output"
   ]
  },
  {
   "cell_type": "code",
   "execution_count": 2,
   "id": "b692873b-ee21-4ded-b73e-c297b7343e96",
   "metadata": {
    "execution": {
     "iopub.execute_input": "2023-07-24T20:16:13.606303Z",
     "iopub.status.busy": "2023-07-24T20:16:13.605287Z",
     "iopub.status.idle": "2023-07-24T20:16:13.824681Z",
     "shell.execute_reply": "2023-07-24T20:16:13.824432Z"
    },
    "papermill": {
     "duration": 0.744244,
     "end_time": "2023-07-24T20:16:13.824840",
     "exception": false,
     "start_time": "2023-07-24T20:16:13.080596",
     "status": "completed"
    },
    "tags": []
   },
   "outputs": [],
   "source": [
    "import org.apache.spark.sql.SparkSession\n",
    "import com.databricks.spark.xml._\n",
    "import org.apache.spark.sql._\n",
    "import org.apache.spark.sql.functions.col\n",
    "import org.apache.spark.sql.functions._\n",
    "import scala.io.Source \n",
    "import org.apache.spark.sql.types.{DataType, StructType}"
   ]
  },
  {
   "cell_type": "markdown",
   "id": "a05288a4-8bc5-4a67-afaa-e60cd511acd2",
   "metadata": {
    "papermill": {
     "duration": 0.650331,
     "end_time": "2023-07-24T20:16:15.009013",
     "exception": false,
     "start_time": "2023-07-24T20:16:14.358682",
     "status": "completed"
    },
    "tags": []
   },
   "source": [
    "## Reads Input and Output"
   ]
  },
  {
   "cell_type": "code",
   "execution_count": 3,
   "id": "434f8b0b-b740-4dca-af34-738459a0b3e8",
   "metadata": {
    "execution": {
     "iopub.execute_input": "2023-07-24T20:16:16.079068Z",
     "iopub.status.busy": "2023-07-24T20:16:16.078688Z",
     "iopub.status.idle": "2023-07-24T20:16:16.322293Z",
     "shell.execute_reply": "2023-07-24T20:16:16.319278Z"
    },
    "papermill": {
     "duration": 0.787276,
     "end_time": "2023-07-24T20:16:16.322449",
     "exception": false,
     "start_time": "2023-07-24T20:16:15.535173",
     "status": "completed"
    },
    "tags": []
   },
   "outputs": [
    {
     "data": {
      "text/plain": [
       "inputPath = gs://dataproc-cookbook/chapter2/spark/scala/inputfiles/menu.xml\n",
       "outputPath = gs://dataproc-cookbook/chapter2/spark/scala/outputfiles/\n"
      ]
     },
     "metadata": {},
     "output_type": "display_data"
    },
    {
     "data": {
      "text/plain": [
       "gs://dataproc-cookbook/chapter2/spark/scala/outputfiles/"
      ]
     },
     "execution_count": 3,
     "metadata": {},
     "output_type": "execute_result"
    }
   ],
   "source": [
    "//val inputPath = args(0)\n",
    "val inputPath = \"gs://dataproc-cookbook/chapter2/spark/scala/inputfiles/menu.xml\"\n",
    "val outputPath = \"gs://dataproc-cookbook/chapter2/spark/scala/outputfiles/\""
   ]
  },
  {
   "cell_type": "code",
   "execution_count": 4,
   "id": "7dc4ee69-faf7-4bc6-bfdc-5abf9c280c99",
   "metadata": {
    "execution": {
     "iopub.execute_input": "2023-07-24T20:16:17.601667Z",
     "iopub.status.busy": "2023-07-24T20:16:17.600669Z",
     "iopub.status.idle": "2023-07-24T20:16:17.789151Z",
     "shell.execute_reply": "2023-07-24T20:16:17.788186Z"
    },
    "papermill": {
     "duration": 0.856998,
     "end_time": "2023-07-24T20:16:17.789301",
     "exception": false,
     "start_time": "2023-07-24T20:16:16.932303",
     "status": "completed"
    },
    "tags": []
   },
   "outputs": [
    {
     "data": {
      "text/plain": [
       "rowTag = food\n"
      ]
     },
     "metadata": {},
     "output_type": "display_data"
    },
    {
     "data": {
      "text/plain": [
       "food"
      ]
     },
     "execution_count": 4,
     "metadata": {},
     "output_type": "execute_result"
    }
   ],
   "source": [
    "val rowTag = \"food\""
   ]
  },
  {
   "cell_type": "markdown",
   "id": "02450645-0327-4017-87df-97e2b76a38ae",
   "metadata": {
    "papermill": {
     "duration": 0.527417,
     "end_time": "2023-07-24T20:16:18.849328",
     "exception": false,
     "start_time": "2023-07-24T20:16:18.321911",
     "status": "completed"
    },
    "tags": []
   },
   "source": [
    "## Infers Schema"
   ]
  },
  {
   "cell_type": "code",
   "execution_count": 5,
   "id": "19c4ab14-c113-406d-b848-ae6c08350243",
   "metadata": {
    "execution": {
     "iopub.execute_input": "2023-07-24T20:16:19.899317Z",
     "iopub.status.busy": "2023-07-24T20:16:19.898959Z",
     "iopub.status.idle": "2023-07-24T20:16:23.244221Z",
     "shell.execute_reply": "2023-07-24T20:16:23.243437Z"
    },
    "papermill": {
     "duration": 3.865811,
     "end_time": "2023-07-24T20:16:23.244343",
     "exception": false,
     "start_time": "2023-07-24T20:16:19.378532",
     "status": "completed"
    },
    "tags": []
   },
   "outputs": [
    {
     "data": {
      "text/plain": [
       "inputDf = [calories: bigint, description: string ... 2 more fields]\n"
      ]
     },
     "metadata": {},
     "output_type": "display_data"
    },
    {
     "data": {
      "text/plain": [
       "[calories: bigint, description: string ... 2 more fields]"
      ]
     },
     "execution_count": 5,
     "metadata": {},
     "output_type": "execute_result"
    }
   ],
   "source": [
    "var inputDf = spark.read.option(\"rowTag\", rowTag).xml(inputPath)"
   ]
  },
  {
   "cell_type": "code",
   "execution_count": 6,
   "id": "21211886-f075-4343-8077-e1ce802b2f55",
   "metadata": {
    "execution": {
     "iopub.execute_input": "2023-07-24T20:16:24.357592Z",
     "iopub.status.busy": "2023-07-24T20:16:24.357220Z",
     "iopub.status.idle": "2023-07-24T20:16:27.378628Z",
     "shell.execute_reply": "2023-07-24T20:16:27.377272Z"
    },
    "papermill": {
     "duration": 3.625379,
     "end_time": "2023-07-24T20:16:27.378789",
     "exception": false,
     "start_time": "2023-07-24T20:16:23.753410",
     "status": "completed"
    },
    "tags": []
   },
   "outputs": [
    {
     "name": "stdout",
     "output_type": "stream",
     "text": [
      "+--------+--------------------+--------------------+-----+\n",
      "|calories|         description|                name|price|\n",
      "+--------+--------------------+--------------------+-----+\n",
      "|     650|Two of our famous...|     Belgian Waffles|$5.95|\n",
      "|     900|Light Belgian waf...|Strawberry Belgia...|$7.95|\n",
      "|     900|Light Belgian waf...|Berry-Berry Belgi...|$8.95|\n",
      "|     600|Thick slices made...|        French Toast|$4.50|\n",
      "|     950|Two eggs, bacon o...| Homestyle Breakfast|$6.95|\n",
      "+--------+--------------------+--------------------+-----+\n",
      "\n"
     ]
    }
   ],
   "source": [
    "inputDf.show()"
   ]
  },
  {
   "cell_type": "markdown",
   "id": "f86ce168-8cbd-42e0-8a15-0878210ed81a",
   "metadata": {
    "papermill": {
     "duration": 0.610919,
     "end_time": "2023-07-24T20:16:28.606133",
     "exception": false,
     "start_time": "2023-07-24T20:16:27.995214",
     "status": "completed"
    },
    "tags": []
   },
   "source": [
    "## Writes the Parquet output to GCS"
   ]
  },
  {
   "cell_type": "code",
   "execution_count": 7,
   "id": "1bb6c18b-e408-4e03-80b8-091987ddf157",
   "metadata": {
    "execution": {
     "iopub.execute_input": "2023-07-24T20:16:29.907849Z",
     "iopub.status.busy": "2023-07-24T20:16:29.906784Z",
     "iopub.status.idle": "2023-07-24T20:16:38.445261Z",
     "shell.execute_reply": "2023-07-24T20:16:38.446132Z"
    },
    "papermill": {
     "duration": 9.312834,
     "end_time": "2023-07-24T20:16:38.446321",
     "exception": false,
     "start_time": "2023-07-24T20:16:29.133487",
     "status": "completed"
    },
    "tags": []
   },
   "outputs": [],
   "source": [
    "inputDf.write.mode(SaveMode.Overwrite).parquet(outputPath)"
   ]
  }
 ],
 "metadata": {
  "kernelspec": {
   "display_name": "Apache Toree - Scala",
   "language": "scala",
   "name": "apache_toree_scala"
  },
  "language_info": {
   "codemirror_mode": "text/x-scala",
   "file_extension": ".scala",
   "mimetype": "text/x-scala",
   "name": "scala",
   "pygments_lexer": "scala",
   "version": "2.12.15"
  },
  "papermill": {
   "default_parameters": {},
   "duration": 56.629269,
   "end_time": "2023-07-24T20:16:40.662948",
   "environment_variables": {},
   "exception": null,
   "input_path": "gs://databricks-enablement/GEP/notebooktest/scala_test.ipynb",
   "output_path": "gs://databricks-enablement/GEP/notebooktest/scala_output.ipynb",
   "parameters": {},
   "start_time": "2023-07-24T20:15:44.033679",
   "version": "2.3.4"
  }
 },
 "nbformat": 4,
 "nbformat_minor": 5
}